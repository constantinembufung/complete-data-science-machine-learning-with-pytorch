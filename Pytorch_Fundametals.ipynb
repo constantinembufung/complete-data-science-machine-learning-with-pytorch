{
  "nbformat": 4,
  "nbformat_minor": 0,
  "metadata": {
    "colab": {
      "provenance": []
    },
    "kernelspec": {
      "name": "python3",
      "display_name": "Python 3"
    },
    "language_info": {
      "name": "python"
    }
  },
  "cells": [
    {
      "cell_type": "code",
      "execution_count": 1,
      "metadata": {
        "colab": {
          "base_uri": "https://localhost:8080/",
          "height": 36
        },
        "id": "2yI-YzMYkVc3",
        "outputId": "1d43a861-3909-4690-9931-0dfaa0b17914"
      },
      "outputs": [
        {
          "output_type": "execute_result",
          "data": {
            "text/plain": [
              "'2.0.0+cu118'"
            ],
            "application/vnd.google.colaboratory.intrinsic+json": {
              "type": "string"
            }
          },
          "metadata": {},
          "execution_count": 1
        }
      ],
      "source": [
        "import torch\n",
        "torch.__version__"
      ]
    },
    {
      "cell_type": "markdown",
      "source": [
        "# Creating tensors\n",
        "A scalar is a single number and in tensor-speak its a zero dimension tensor\n",
        "\n"
      ],
      "metadata": {
        "id": "js5zH5gEcJvi"
      }
    },
    {
      "cell_type": "code",
      "source": [
        "#scalar \n",
        "scalar  = torch.tensor(3)\n",
        "scalar.ndim"
      ],
      "metadata": {
        "colab": {
          "base_uri": "https://localhost:8080/"
        },
        "id": "rpNgAdSNcWsx",
        "outputId": "7ef6e974-a680-48c4-c56b-62ab29419b53"
      },
      "execution_count": 2,
      "outputs": [
        {
          "output_type": "execute_result",
          "data": {
            "text/plain": [
              "0"
            ]
          },
          "metadata": {},
          "execution_count": 2
        }
      ]
    },
    {
      "cell_type": "code",
      "source": [
        "# Scalar\n",
        "scalar = torch.tensor(7)\n",
        "scalar"
      ],
      "metadata": {
        "colab": {
          "base_uri": "https://localhost:8080/"
        },
        "id": "pKmZLgKqkja-",
        "outputId": "90e25cd5-6b41-4d04-964b-e03b97bc0b77"
      },
      "execution_count": 3,
      "outputs": [
        {
          "output_type": "execute_result",
          "data": {
            "text/plain": [
              "tensor(7)"
            ]
          },
          "metadata": {},
          "execution_count": 3
        }
      ]
    },
    {
      "cell_type": "code",
      "source": [
        "#retrieve the number from the tensor\n",
        "scalar.item()"
      ],
      "metadata": {
        "colab": {
          "base_uri": "https://localhost:8080/"
        },
        "id": "EAlhf6ePckga",
        "outputId": "df6b1d82-8533-429b-f04b-da71dab15975"
      },
      "execution_count": 4,
      "outputs": [
        {
          "output_type": "execute_result",
          "data": {
            "text/plain": [
              "7"
            ]
          },
          "metadata": {},
          "execution_count": 4
        }
      ]
    },
    {
      "cell_type": "markdown",
      "source": [
        "# Vectors\n",
        "A vector is a single dimension tensor but can contain many numbers\n",
        "e.g [3,2] to describe [bedrooms, bathrooms] in your house or we can use [3, 2, 2] to represent [bedrooms, bathrooms, car_parks] in your house"
      ],
      "metadata": {
        "id": "3K_zujAkctu6"
      }
    },
    {
      "cell_type": "code",
      "source": [
        "#vector \n",
        "vector = torch.tensor([7,7])\n",
        "vector.size, vector.dtype, vector.ndim, vector.shape"
      ],
      "metadata": {
        "colab": {
          "base_uri": "https://localhost:8080/"
        },
        "id": "HLyCCd2-dL3X",
        "outputId": "71d4eba8-223c-494e-fca1-2174e0429be5"
      },
      "execution_count": 5,
      "outputs": [
        {
          "output_type": "execute_result",
          "data": {
            "text/plain": [
              "(<function Tensor.size>, torch.int64, 1, torch.Size([2]))"
            ]
          },
          "metadata": {},
          "execution_count": 5
        }
      ]
    },
    {
      "cell_type": "code",
      "source": [
        "#lets create a matrix\n",
        "a = [7,8]\n",
        "b = [9, 10]\n",
        "matrix = torch.tensor([a, b])\n",
        "#we can just create it as \n",
        "matrix1 = torch.tensor([[ 7,  8],[ 9, 10]])\n",
        "matrix, matrix1"
      ],
      "metadata": {
        "colab": {
          "base_uri": "https://localhost:8080/"
        },
        "id": "rNZOu83ZdgVm",
        "outputId": "b0d0c7d2-198d-45e2-c42a-11b328dc54d9"
      },
      "execution_count": 7,
      "outputs": [
        {
          "output_type": "execute_result",
          "data": {
            "text/plain": [
              "(tensor([[ 7,  8],\n",
              "         [ 9, 10]]),\n",
              " tensor([[ 7,  8],\n",
              "         [ 9, 10]]))"
            ]
          },
          "metadata": {},
          "execution_count": 7
        }
      ]
    },
    {
      "cell_type": "code",
      "source": [
        "matrix.shape"
      ],
      "metadata": {
        "colab": {
          "base_uri": "https://localhost:8080/"
        },
        "id": "8yWpx0p7ePLX",
        "outputId": "60a3bbc2-cee6-49c9-8a79-8b9fc5ef5c24"
      },
      "execution_count": 9,
      "outputs": [
        {
          "output_type": "execute_result",
          "data": {
            "text/plain": [
              "torch.Size([2, 2])"
            ]
          },
          "metadata": {},
          "execution_count": 9
        }
      ]
    },
    {
      "cell_type": "code",
      "source": [
        "matrix.shape, matrix.size, matrix.dtype, matrix.ndim"
      ],
      "metadata": {
        "colab": {
          "base_uri": "https://localhost:8080/"
        },
        "id": "NV1pFn23d64G",
        "outputId": "113f80ae-dee4-43fc-e5b5-f3531bcd22af"
      },
      "execution_count": 8,
      "outputs": [
        {
          "output_type": "execute_result",
          "data": {
            "text/plain": [
              "(torch.Size([2, 2]), <function Tensor.size>, torch.int64, 2)"
            ]
          },
          "metadata": {},
          "execution_count": 8
        }
      ]
    },
    {
      "cell_type": "markdown",
      "source": [
        "## Creating tensors"
      ],
      "metadata": {
        "id": "9tCpuTQXeDxc"
      }
    },
    {
      "cell_type": "code",
      "source": [
        "#tensor\n",
        "tensor = torch.tensor([[[1,2,3], [4,5,6],[7,8,9]]])\n",
        "tensor"
      ],
      "metadata": {
        "colab": {
          "base_uri": "https://localhost:8080/"
        },
        "id": "NzRRsNc0eWb3",
        "outputId": "68ee22b0-a316-4481-cb9f-6ef0d8fadbf8"
      },
      "execution_count": 14,
      "outputs": [
        {
          "output_type": "execute_result",
          "data": {
            "text/plain": [
              "tensor([[[1, 2, 3],\n",
              "         [4, 5, 6],\n",
              "         [7, 8, 9]]])"
            ]
          },
          "metadata": {},
          "execution_count": 14
        }
      ]
    },
    {
      "cell_type": "code",
      "source": [
        "#lets look at the attributes of the tensor\n",
        "tensor.shape, tensor.ndim, tensor.size, type(tensor)"
      ],
      "metadata": {
        "colab": {
          "base_uri": "https://localhost:8080/"
        },
        "id": "otpT6W4Peqlv",
        "outputId": "3a06de2a-ffb2-4208-b2f3-3b32b35f5401"
      },
      "execution_count": 15,
      "outputs": [
        {
          "output_type": "execute_result",
          "data": {
            "text/plain": [
              "(torch.Size([1, 3, 3]), 3, <function Tensor.size>, torch.Tensor)"
            ]
          },
          "metadata": {},
          "execution_count": 15
        }
      ]
    },
    {
      "cell_type": "markdown",
      "source": [
        "Machine Learning models such as neural netowrks manipulate and seek patterns within tensors.\n",
        "As Data Scientist, we can define how the machine learning model starts(initialization), looks at data (representation) and updates (optimization) its random numbers."
      ],
      "metadata": {
        "id": "tP7fRXLpfPyu"
      }
    },
    {
      "cell_type": "markdown",
      "source": [
        "## lets create random tensors"
      ],
      "metadata": {
        "id": "PnKW9WobfphD"
      }
    },
    {
      "cell_type": "code",
      "source": [
        "#creating random tensors\n",
        "random_tensor = torch.rand(size=(3,4))\n",
        "random_tensor, random_tensor.shape, random_tensor.dtype"
      ],
      "metadata": {
        "colab": {
          "base_uri": "https://localhost:8080/"
        },
        "id": "Sg7cNmnIfozj",
        "outputId": "5c3aa64d-2c93-4d3f-cf80-300c1ae0afae"
      },
      "execution_count": 16,
      "outputs": [
        {
          "output_type": "execute_result",
          "data": {
            "text/plain": [
              "(tensor([[0.8629, 0.5938, 0.2233, 0.5777],\n",
              "         [0.0574, 0.2485, 0.5512, 0.7176],\n",
              "         [0.8925, 0.6530, 0.3150, 0.0309]]),\n",
              " torch.Size([3, 4]),\n",
              " torch.float32)"
            ]
          },
          "metadata": {},
          "execution_count": 16
        }
      ]
    },
    {
      "cell_type": "markdown",
      "source": [
        "The beauty at torch.rand() is that we can adjust the size to be whatever we want"
      ],
      "metadata": {
        "id": "dClPn8NngDlO"
      }
    },
    {
      "cell_type": "code",
      "source": [
        "random_image_size_tensor = torch.rand(size=(224,224,3))\n",
        "random_image_size_tensor.shape, random_image_size_tensor.ndim"
      ],
      "metadata": {
        "colab": {
          "base_uri": "https://localhost:8080/"
        },
        "id": "87Z5GqIugK5U",
        "outputId": "3731a67a-314e-4ee2-d9cc-7ddbaaaa0c02"
      },
      "execution_count": 17,
      "outputs": [
        {
          "output_type": "execute_result",
          "data": {
            "text/plain": [
              "(torch.Size([224, 224, 3]), 3)"
            ]
          },
          "metadata": {},
          "execution_count": 17
        }
      ]
    },
    {
      "cell_type": "markdown",
      "source": [
        "# lets create zeros and ones tensors\n",
        "sometimes you'll just want to fill tensors with zeros or ones \n"
      ],
      "metadata": {
        "id": "GEt16M0Pgm8J"
      }
    },
    {
      "cell_type": "code",
      "source": [
        "#create a tensor of all zeros\n",
        "zeros = torch.zeros(size=(3,4))\n",
        "zeros"
      ],
      "metadata": {
        "colab": {
          "base_uri": "https://localhost:8080/"
        },
        "id": "2SCOyJybgxmn",
        "outputId": "403afdcd-0a67-429f-fba7-6de89d41673c"
      },
      "execution_count": 18,
      "outputs": [
        {
          "output_type": "execute_result",
          "data": {
            "text/plain": [
              "tensor([[0., 0., 0., 0.],\n",
              "        [0., 0., 0., 0.],\n",
              "        [0., 0., 0., 0.]])"
            ]
          },
          "metadata": {},
          "execution_count": 18
        }
      ]
    },
    {
      "cell_type": "code",
      "source": [
        "#create a tensor of all ones\n",
        "ones = torch.ones(size=(3,4))\n",
        "ones"
      ],
      "metadata": {
        "colab": {
          "base_uri": "https://localhost:8080/"
        },
        "id": "bILE6i51h4y5",
        "outputId": "8f375186-3ac3-45d8-a22d-d20bcc01cc94"
      },
      "execution_count": 19,
      "outputs": [
        {
          "output_type": "execute_result",
          "data": {
            "text/plain": [
              "tensor([[1., 1., 1., 1.],\n",
              "        [1., 1., 1., 1.],\n",
              "        [1., 1., 1., 1.]])"
            ]
          },
          "metadata": {},
          "execution_count": 19
        }
      ]
    },
    {
      "cell_type": "markdown",
      "source": [
        "sometimes you wish to to create a range of numbers such as 1 to 20, you can use the torch.arange(start, end, step) function"
      ],
      "metadata": {
        "id": "cj8xBpiDiGtT"
      }
    },
    {
      "cell_type": "code",
      "source": [
        "#create a range of values between 0 and 10\n",
        "zero_to_ten = torch.arange(0,10,1)\n",
        "zero_to_ten"
      ],
      "metadata": {
        "colab": {
          "base_uri": "https://localhost:8080/"
        },
        "id": "9qgVmVKliVGa",
        "outputId": "bd802c42-c846-44c8-96dd-ff0a4ce96e7f"
      },
      "execution_count": 20,
      "outputs": [
        {
          "output_type": "execute_result",
          "data": {
            "text/plain": [
              "tensor([0, 1, 2, 3, 4, 5, 6, 7, 8, 9])"
            ]
          },
          "metadata": {},
          "execution_count": 20
        }
      ]
    },
    {
      "cell_type": "code",
      "source": [
        "#create a range of values between 0 and 10\n",
        "zero_to_ten = torch.arange(start=0,end=10,step=2)\n",
        "zero_to_ten"
      ],
      "metadata": {
        "colab": {
          "base_uri": "https://localhost:8080/"
        },
        "id": "0DYbO2yGisB8",
        "outputId": "5259072b-9385-4f4a-a499-e5f6b926e34c"
      },
      "execution_count": 22,
      "outputs": [
        {
          "output_type": "execute_result",
          "data": {
            "text/plain": [
              "tensor([0, 2, 4, 6, 8])"
            ]
          },
          "metadata": {},
          "execution_count": 22
        }
      ]
    },
    {
      "cell_type": "code",
      "source": [
        "# Default datatype for tensors is float32\n",
        "float_32_tensor = torch.tensor([3.0, 6.0, 9.0],\n",
        "                               dtype=None, # defaults to None, which is torch.float32 or whatever datatype is passed\n",
        "                               device=None, # defaults to None, which uses the default tensor type\n",
        "                               requires_grad=False) # if True, operations performed on the tensor are recorded \n",
        "\n",
        "float_32_tensor.shape, float_32_tensor.dtype, float_32_tensor.device"
      ],
      "metadata": {
        "colab": {
          "base_uri": "https://localhost:8080/"
        },
        "id": "tyzT6lpijB-9",
        "outputId": "195ba3d8-b24e-40c4-9b23-13dd4eecba39"
      },
      "execution_count": 23,
      "outputs": [
        {
          "output_type": "execute_result",
          "data": {
            "text/plain": [
              "(torch.Size([3]), torch.float32, device(type='cpu'))"
            ]
          },
          "metadata": {},
          "execution_count": 23
        }
      ]
    },
    {
      "cell_type": "code",
      "source": [
        "float_16_tensor = torch.tensor([3.0, 6.0, 9.0],\n",
        "                               dtype=torch.float16) # torch.half would also work\n",
        "\n",
        "float_16_tensor.dtype"
      ],
      "metadata": {
        "colab": {
          "base_uri": "https://localhost:8080/"
        },
        "id": "ZHnbHcvbjD8w",
        "outputId": "2d01a11b-643e-4d48-ea17-2f3edf6c5c7e"
      },
      "execution_count": 24,
      "outputs": [
        {
          "output_type": "execute_result",
          "data": {
            "text/plain": [
              "torch.float16"
            ]
          },
          "metadata": {},
          "execution_count": 24
        }
      ]
    },
    {
      "cell_type": "markdown",
      "source": [
        "## Getting information from tensors\n",
        "once we create a tensor, you might want to get some information from them such as:\n",
        "- shape: what shape is the tensor?\n",
        "- dtype : what datatype are the element within the tensor stored in ?\n",
        "- device :  what deveice is the tensor stored on? (usually GPU or CPU)"
      ],
      "metadata": {
        "id": "AycRYQUOjMJi"
      }
    },
    {
      "cell_type": "code",
      "source": [
        "some_tensor = torch.rand(3,4)\n",
        "some_tensor, some_tensor.shape, some_tensor.dtype, some_tensor.device"
      ],
      "metadata": {
        "colab": {
          "base_uri": "https://localhost:8080/"
        },
        "id": "6bsKjXV8jk-j",
        "outputId": "c2ccc64f-7880-45eb-fe01-d584b22f32db"
      },
      "execution_count": 25,
      "outputs": [
        {
          "output_type": "execute_result",
          "data": {
            "text/plain": [
              "(tensor([[0.9696, 0.0815, 0.6653, 0.7652],\n",
              "         [0.6458, 0.6294, 0.4224, 0.8588],\n",
              "         [0.2069, 0.9628, 0.5189, 0.7421]]),\n",
              " torch.Size([3, 4]),\n",
              " torch.float32,\n",
              " device(type='cpu'))"
            ]
          },
          "metadata": {},
          "execution_count": 25
        }
      ]
    },
    {
      "cell_type": "markdown",
      "source": [
        "## Manipulating Tensors\n",
        "In deep learning, data (images, text, video, audio, protein structures etc) get represented as tensors. A\n",
        "A model learns by investigating those tensors and performing a series of operation on tensors to create a representation of the patterns in the input data\n",
        "- Addition\n",
        "- substraction\n",
        "- Multiplication (element-wise)\n",
        "- Division\n",
        "- matric multiplication"
      ],
      "metadata": {
        "id": "ZsTJQa-Jj2xG"
      }
    },
    {
      "cell_type": "markdown",
      "source": [
        "## Basic Operations on tensors"
      ],
      "metadata": {
        "id": "HAfxLn9hkcLp"
      }
    },
    {
      "cell_type": "code",
      "source": [
        "tensor = torch.tensor([1,2,3])\n",
        "tensor + 5"
      ],
      "metadata": {
        "colab": {
          "base_uri": "https://localhost:8080/"
        },
        "id": "LPIAIybXkgJD",
        "outputId": "11b78696-ec4b-489c-e8c7-055d1d806e51"
      },
      "execution_count": 26,
      "outputs": [
        {
          "output_type": "execute_result",
          "data": {
            "text/plain": [
              "tensor([6, 7, 8])"
            ]
          },
          "metadata": {},
          "execution_count": 26
        }
      ]
    },
    {
      "cell_type": "code",
      "source": [
        "#multiply it by 5\n",
        "tensor * 5"
      ],
      "metadata": {
        "colab": {
          "base_uri": "https://localhost:8080/"
        },
        "id": "arxtusKAkZIC",
        "outputId": "ce35ffed-cdb7-467c-a8b3-da2be9a2a87e"
      },
      "execution_count": 27,
      "outputs": [
        {
          "output_type": "execute_result",
          "data": {
            "text/plain": [
              "tensor([ 5, 10, 15])"
            ]
          },
          "metadata": {},
          "execution_count": 27
        }
      ]
    },
    {
      "cell_type": "code",
      "source": [
        "tensor - 10"
      ],
      "metadata": {
        "colab": {
          "base_uri": "https://localhost:8080/"
        },
        "id": "GFEMQXV7ky--",
        "outputId": "bfc48721-81aa-44c5-9b82-af79e661cb4d"
      },
      "execution_count": 28,
      "outputs": [
        {
          "output_type": "execute_result",
          "data": {
            "text/plain": [
              "tensor([-9, -8, -7])"
            ]
          },
          "metadata": {},
          "execution_count": 28
        }
      ]
    },
    {
      "cell_type": "code",
      "source": [
        "tensor"
      ],
      "metadata": {
        "colab": {
          "base_uri": "https://localhost:8080/"
        },
        "id": "u7f0bUoIk4uq",
        "outputId": "af0d9b94-d0fb-4541-bc8e-712d4778a088"
      },
      "execution_count": 29,
      "outputs": [
        {
          "output_type": "execute_result",
          "data": {
            "text/plain": [
              "tensor([1, 2, 3])"
            ]
          },
          "metadata": {},
          "execution_count": 29
        }
      ]
    },
    {
      "cell_type": "code",
      "source": [
        "#add and resassign\n",
        "tensor = tensor +10\n",
        "tensor"
      ],
      "metadata": {
        "colab": {
          "base_uri": "https://localhost:8080/"
        },
        "id": "euiPod5Lk60H",
        "outputId": "767adecd-f4c4-44a5-9aff-aeb5d9ba3ff4"
      },
      "execution_count": 30,
      "outputs": [
        {
          "output_type": "execute_result",
          "data": {
            "text/plain": [
              "tensor([11, 12, 13])"
            ]
          },
          "metadata": {},
          "execution_count": 30
        }
      ]
    },
    {
      "cell_type": "code",
      "source": [
        "tensor"
      ],
      "metadata": {
        "colab": {
          "base_uri": "https://localhost:8080/"
        },
        "id": "wczsSCFNlBgB",
        "outputId": "f8ba038f-956a-4a5d-f1ca-bf4fcbf90e9f"
      },
      "execution_count": 31,
      "outputs": [
        {
          "output_type": "execute_result",
          "data": {
            "text/plain": [
              "tensor([11, 12, 13])"
            ]
          },
          "metadata": {},
          "execution_count": 31
        }
      ]
    },
    {
      "cell_type": "markdown",
      "source": [
        "Pytorch has built-in functions like torch.mul() or torch.add() to perform basics operations"
      ],
      "metadata": {
        "id": "HDmFYEIalM7Q"
      }
    },
    {
      "cell_type": "code",
      "source": [
        "torch.mul(tensor, 10)"
      ],
      "metadata": {
        "colab": {
          "base_uri": "https://localhost:8080/"
        },
        "id": "ASsBRa52lKLI",
        "outputId": "f7997910-2dec-497f-8b20-744ba6adf89d"
      },
      "execution_count": 32,
      "outputs": [
        {
          "output_type": "execute_result",
          "data": {
            "text/plain": [
              "tensor([110, 120, 130])"
            ]
          },
          "metadata": {},
          "execution_count": 32
        }
      ]
    },
    {
      "cell_type": "code",
      "source": [
        "print(\"Equals: \", tensor * tensor)"
      ],
      "metadata": {
        "colab": {
          "base_uri": "https://localhost:8080/"
        },
        "id": "tEonFfujlgjV",
        "outputId": "afa6ef04-76d1-4a91-e132-1b9e947a5e5f"
      },
      "execution_count": 33,
      "outputs": [
        {
          "output_type": "stream",
          "name": "stdout",
          "text": [
            "Equals:  tensor([121, 144, 169])\n"
          ]
        }
      ]
    },
    {
      "cell_type": "markdown",
      "source": [
        "## Matrix multiplication (is all you need)\n",
        "The main two rules for matrix multiplication to remember are:\n",
        "\n",
        "1.The inner dimensions must match:\n",
        "- (3, 2) @ (3, 2) won't work\n",
        "\n",
        "- (3, 2) @ (3, 2) won't work\n",
        "- (2, 3) @ (3, 2) will work\n",
        "\n",
        "2. The resulting matrix has the shape of the outer dimensions:\n",
        "- (2, 3) @ (3, 2) -> (2, 2)\n",
        "- (3, 2) @ (2, 3) -> (3, 3) "
      ],
      "metadata": {
        "id": "Tswu4VgNlrkr"
      }
    },
    {
      "cell_type": "code",
      "source": [
        "tensor = torch.tensor([1,2,3])\n",
        "tensor.shape"
      ],
      "metadata": {
        "colab": {
          "base_uri": "https://localhost:8080/"
        },
        "id": "_8NKf4zomKK3",
        "outputId": "04b9c53d-aa0d-4b2b-f458-102d52e617d5"
      },
      "execution_count": 34,
      "outputs": [
        {
          "output_type": "execute_result",
          "data": {
            "text/plain": [
              "torch.Size([3])"
            ]
          },
          "metadata": {},
          "execution_count": 34
        }
      ]
    },
    {
      "cell_type": "code",
      "source": [
        "#Element-wise matrix multiplication\n",
        "tensor * tensor # [1, 2, 3] * [1, 2, 3] = [1*1, 2*2, 3*3] = [1, 4,9 ]"
      ],
      "metadata": {
        "colab": {
          "base_uri": "https://localhost:8080/"
        },
        "id": "E4hYoz9cmUOL",
        "outputId": "8c07dbbd-e047-413c-9220-97e35ebcfdfd"
      },
      "execution_count": 37,
      "outputs": [
        {
          "output_type": "execute_result",
          "data": {
            "text/plain": [
              "tensor([1, 4, 9])"
            ]
          },
          "metadata": {},
          "execution_count": 37
        }
      ]
    },
    {
      "cell_type": "code",
      "source": [
        "#Matrix Multiplication\n",
        "torch.matmul(tensor, tensor)"
      ],
      "metadata": {
        "colab": {
          "base_uri": "https://localhost:8080/"
        },
        "id": "HsxDuSr_mjKf",
        "outputId": "2b7eec1b-89c0-4646-aba0-68dd7b24dab9"
      },
      "execution_count": 38,
      "outputs": [
        {
          "output_type": "execute_result",
          "data": {
            "text/plain": [
              "tensor(14)"
            ]
          },
          "metadata": {},
          "execution_count": 38
        }
      ]
    },
    {
      "cell_type": "code",
      "source": [
        "# you can also you @ to perform matrix multiplication \n",
        "tensor @ tensor"
      ],
      "metadata": {
        "colab": {
          "base_uri": "https://localhost:8080/"
        },
        "id": "ouEUEL_Smw_Q",
        "outputId": "9299729b-aa25-46d3-d0a1-63504a470ad0"
      },
      "execution_count": 39,
      "outputs": [
        {
          "output_type": "execute_result",
          "data": {
            "text/plain": [
              "tensor(14)"
            ]
          },
          "metadata": {},
          "execution_count": 39
        }
      ]
    },
    {
      "cell_type": "code",
      "source": [
        "tensor_A = torch.tensor([[1,2], [3,4],[5,6]], dtype=torch.float32)\n",
        "tensor_B = torch.tensor([[7,10],[8,11],[9,12]], dtype=torch.float32)\n",
        "\n",
        "torch.matmul(tensor_A, tensor_B)"
      ],
      "metadata": {
        "colab": {
          "base_uri": "https://localhost:8080/",
          "height": 200
        },
        "id": "MoeAwDFJxeW9",
        "outputId": "1a439ef5-4e48-42b9-8d5a-a0e8e2d0ac6e"
      },
      "execution_count": 41,
      "outputs": [
        {
          "output_type": "error",
          "ename": "RuntimeError",
          "evalue": "ignored",
          "traceback": [
            "\u001b[0;31m---------------------------------------------------------------------------\u001b[0m",
            "\u001b[0;31mRuntimeError\u001b[0m                              Traceback (most recent call last)",
            "\u001b[0;32m<ipython-input-41-b62128e8a2b4>\u001b[0m in \u001b[0;36m<cell line: 4>\u001b[0;34m()\u001b[0m\n\u001b[1;32m      2\u001b[0m \u001b[0mtensor_B\u001b[0m \u001b[0;34m=\u001b[0m \u001b[0mtorch\u001b[0m\u001b[0;34m.\u001b[0m\u001b[0mtensor\u001b[0m\u001b[0;34m(\u001b[0m\u001b[0;34m[\u001b[0m\u001b[0;34m[\u001b[0m\u001b[0;36m7\u001b[0m\u001b[0;34m,\u001b[0m\u001b[0;36m10\u001b[0m\u001b[0;34m]\u001b[0m\u001b[0;34m,\u001b[0m\u001b[0;34m[\u001b[0m\u001b[0;36m8\u001b[0m\u001b[0;34m,\u001b[0m\u001b[0;36m11\u001b[0m\u001b[0;34m]\u001b[0m\u001b[0;34m,\u001b[0m\u001b[0;34m[\u001b[0m\u001b[0;36m9\u001b[0m\u001b[0;34m,\u001b[0m\u001b[0;36m12\u001b[0m\u001b[0;34m]\u001b[0m\u001b[0;34m]\u001b[0m\u001b[0;34m,\u001b[0m \u001b[0mdtype\u001b[0m\u001b[0;34m=\u001b[0m\u001b[0mtorch\u001b[0m\u001b[0;34m.\u001b[0m\u001b[0mfloat32\u001b[0m\u001b[0;34m)\u001b[0m\u001b[0;34m\u001b[0m\u001b[0;34m\u001b[0m\u001b[0m\n\u001b[1;32m      3\u001b[0m \u001b[0;34m\u001b[0m\u001b[0m\n\u001b[0;32m----> 4\u001b[0;31m \u001b[0mtorch\u001b[0m\u001b[0;34m.\u001b[0m\u001b[0mmatmul\u001b[0m\u001b[0;34m(\u001b[0m\u001b[0mtensor_A\u001b[0m\u001b[0;34m,\u001b[0m \u001b[0mtensor_B\u001b[0m\u001b[0;34m)\u001b[0m\u001b[0;34m\u001b[0m\u001b[0;34m\u001b[0m\u001b[0m\n\u001b[0m",
            "\u001b[0;31mRuntimeError\u001b[0m: mat1 and mat2 shapes cannot be multiplied (3x2 and 3x2)"
          ]
        }
      ]
    },
    {
      "cell_type": "markdown",
      "source": [
        "From the above we see that we can not perform matrix multiplication with tensors whose shape are not the same. \n",
        "\n",
        "to resolve this we have to transpose the tensor B"
      ],
      "metadata": {
        "id": "pRwV1yKf4FBe"
      }
    },
    {
      "cell_type": "code",
      "source": [
        "tensor_A.shape, tensor_B.shape"
      ],
      "metadata": {
        "colab": {
          "base_uri": "https://localhost:8080/"
        },
        "id": "jJaw4QUc4Vho",
        "outputId": "247f85f2-6ba3-4eab-a5df-bd85ddcc836b"
      },
      "execution_count": 42,
      "outputs": [
        {
          "output_type": "execute_result",
          "data": {
            "text/plain": [
              "(torch.Size([3, 2]), torch.Size([3, 2]))"
            ]
          },
          "metadata": {},
          "execution_count": 42
        }
      ]
    },
    {
      "cell_type": "markdown",
      "source": [
        "lete transpose B by using tensor_B.T"
      ],
      "metadata": {
        "id": "HRiBvciQ4cFU"
      }
    },
    {
      "cell_type": "code",
      "source": [
        "tensor_B.T.shape"
      ],
      "metadata": {
        "colab": {
          "base_uri": "https://localhost:8080/"
        },
        "id": "h1lkiRsL4ivK",
        "outputId": "78083bff-528e-4262-cc6f-353d21c2131e"
      },
      "execution_count": 43,
      "outputs": [
        {
          "output_type": "execute_result",
          "data": {
            "text/plain": [
              "torch.Size([2, 3])"
            ]
          },
          "metadata": {},
          "execution_count": 43
        }
      ]
    },
    {
      "cell_type": "code",
      "source": [
        "# The operation works when tensor_B is transposed\n",
        "print(f\"Original shapes: tensor_A = {tensor_A.shape}, tensor_B = {tensor_B.shape}\\n\")\n",
        "print(f\"New shapes: tensor_A = {tensor_A.shape} (same as above), tensor_B.T = {tensor_B.T.shape}\\n\")\n",
        "print(f\"Multiplying: {tensor_A.shape} * {tensor_B.T.shape} <- inner dimensions match\\n\")\n",
        "print(\"Output:\\n\")\n",
        "output = torch.matmul(tensor_A, tensor_B.T)\n",
        "print(output) \n",
        "print(f\"\\nOutput shape: {output.shape}\")"
      ],
      "metadata": {
        "colab": {
          "base_uri": "https://localhost:8080/"
        },
        "id": "XE2Ys5l04nSm",
        "outputId": "d61cddb0-bab4-4335-fbd9-d6de15dd36f7"
      },
      "execution_count": 44,
      "outputs": [
        {
          "output_type": "stream",
          "name": "stdout",
          "text": [
            "Original shapes: tensor_A = torch.Size([3, 2]), tensor_B = torch.Size([3, 2])\n",
            "\n",
            "New shapes: tensor_A = torch.Size([3, 2]) (same as above), tensor_B.T = torch.Size([2, 3])\n",
            "\n",
            "Multiplying: torch.Size([3, 2]) * torch.Size([2, 3]) <- inner dimensions match\n",
            "\n",
            "Output:\n",
            "\n",
            "tensor([[ 27.,  30.,  33.],\n",
            "        [ 61.,  68.,  75.],\n",
            "        [ 95., 106., 117.]])\n",
            "\n",
            "Output shape: torch.Size([3, 3])\n"
          ]
        }
      ]
    },
    {
      "cell_type": "code",
      "source": [
        "# torch.mm is a shortcut for matmul\n",
        "torch.mm(tensor_A, tensor_B.T)"
      ],
      "metadata": {
        "colab": {
          "base_uri": "https://localhost:8080/"
        },
        "id": "RVjhNj7v4ss3",
        "outputId": "5c14698c-4942-4eb2-fcfb-cd2bbdd1df57"
      },
      "execution_count": 45,
      "outputs": [
        {
          "output_type": "execute_result",
          "data": {
            "text/plain": [
              "tensor([[ 27.,  30.,  33.],\n",
              "        [ 61.,  68.,  75.],\n",
              "        [ 95., 106., 117.]])"
            ]
          },
          "metadata": {},
          "execution_count": 45
        }
      ]
    },
    {
      "cell_type": "markdown",
      "source": [
        "\n",
        "Neural networks are full of matrix multiplications and dot products.\n",
        "\n",
        "The torch.nn.Linear() module (we'll see this in action later on), also known as a feed-forward layer or fully connected layer, implements a matrix multiplication between an input x and a weights matrix A.\n",
        "\n",
        "y\n",
        "=\n",
        "x\n",
        "⋅\n",
        "A\n",
        "T\n",
        "+\n",
        "b\n",
        "Where:\n",
        "\n",
        "- x is the input to the layer (deep learning is a stack of layers like torch.nn.Linear() and others on top of each other).\n",
        "- A is the weights matrix created by the layer, this starts out as random numbers that get adjusted as a neural network learns to better represent patterns in the data (notice the \"T\", that's because the weights matrix gets transposed).\n",
        "-- Note: You might also often see W or another letter like X used to showcase the weights matrix.\n",
        "- b is the bias term used to slightly offset the weights and inputs.\n",
        "- y is the output (a manipulation of the input in the hopes to discover patterns in it)."
      ],
      "metadata": {
        "id": "j9_ml7MY48Vu"
      }
    },
    {
      "cell_type": "markdown",
      "source": [
        "## Finding the min, max, mean, sum etc of a tensor"
      ],
      "metadata": {
        "id": "D3FUGd3r5hK0"
      }
    },
    {
      "cell_type": "code",
      "source": [
        "#create a tensor\n",
        "x = torch.arange(0,100,10)\n",
        "x"
      ],
      "metadata": {
        "colab": {
          "base_uri": "https://localhost:8080/"
        },
        "id": "0bjFNEGa5RCL",
        "outputId": "e50e5e46-91c6-455d-e97a-c9d59e4e0b50"
      },
      "execution_count": 46,
      "outputs": [
        {
          "output_type": "execute_result",
          "data": {
            "text/plain": [
              "tensor([ 0, 10, 20, 30, 40, 50, 60, 70, 80, 90])"
            ]
          },
          "metadata": {},
          "execution_count": 46
        }
      ]
    },
    {
      "cell_type": "code",
      "source": [
        "print(f\"Minimum: {x.min()}\")\n",
        "print(f\"Maximum: {x.max()}\")\n",
        "print(f\"Mean: {x.type(torch.float32).mean()}\")\n",
        "print(f\"Sum: {x.sum()}\")"
      ],
      "metadata": {
        "colab": {
          "base_uri": "https://localhost:8080/"
        },
        "id": "vg-BvCQo5uSG",
        "outputId": "fd37e90a-ef9a-4725-b2d4-5579e33c8b2f"
      },
      "execution_count": 50,
      "outputs": [
        {
          "output_type": "stream",
          "name": "stdout",
          "text": [
            "Minimum: 0\n",
            "Maximum: 90\n",
            "Mean: 45.0\n",
            "Sum: 450\n"
          ]
        }
      ]
    },
    {
      "cell_type": "code",
      "source": [
        "torch.min(x), torch.max(x), torch.sum(x), torch.mean(x.type(torch.float32))"
      ],
      "metadata": {
        "colab": {
          "base_uri": "https://localhost:8080/"
        },
        "id": "D9qOWU0q6VhE",
        "outputId": "6e9b209b-ee4a-4916-f28f-ed32e7ab86a6"
      },
      "execution_count": 51,
      "outputs": [
        {
          "output_type": "execute_result",
          "data": {
            "text/plain": [
              "(tensor(0), tensor(90), tensor(450), tensor(45.))"
            ]
          },
          "metadata": {},
          "execution_count": 51
        }
      ]
    },
    {
      "cell_type": "code",
      "source": [
        "# Positional min/max\n",
        "# we can find the index of a tensor where the max or minimum occurs with torch.argmax() or torch.argmin() respectively\n",
        "tensor = torch.arange(10,100,10)\n",
        "tensor, tensor.argmax(), tensor.argmin()"
      ],
      "metadata": {
        "colab": {
          "base_uri": "https://localhost:8080/"
        },
        "id": "tiwUhKI27qe3",
        "outputId": "aaf5fc6f-e82f-44c5-aead-d318a8f59d9b"
      },
      "execution_count": 56,
      "outputs": [
        {
          "output_type": "execute_result",
          "data": {
            "text/plain": [
              "(tensor([10, 20, 30, 40, 50, 60, 70, 80, 90]), tensor(8), tensor(0))"
            ]
          },
          "metadata": {},
          "execution_count": 56
        }
      ]
    },
    {
      "cell_type": "markdown",
      "source": [],
      "metadata": {
        "id": "t_jH6HcNDdxQ"
      }
    },
    {
      "cell_type": "code",
      "source": [
        "# Create a tensor\n",
        "import torch\n",
        "x = torch.arange(1., 8.)\n",
        "x, x.shape"
      ],
      "metadata": {
        "colab": {
          "base_uri": "https://localhost:8080/"
        },
        "id": "AmpVRjS5DjNr",
        "outputId": "148b4c46-5ed4-426c-ce4d-e2799a67d2fc"
      },
      "execution_count": 57,
      "outputs": [
        {
          "output_type": "execute_result",
          "data": {
            "text/plain": [
              "(tensor([1., 2., 3., 4., 5., 6., 7.]), torch.Size([7]))"
            ]
          },
          "metadata": {},
          "execution_count": 57
        }
      ]
    },
    {
      "cell_type": "code",
      "source": [
        "# Add an extra dimension\n",
        "x_reshaped = x.reshape(1, 7)\n",
        "x_reshaped, x_reshaped.shape"
      ],
      "metadata": {
        "id": "JZWaYD93DlFi"
      },
      "execution_count": null,
      "outputs": []
    },
    {
      "cell_type": "code",
      "source": [
        "# Change view (keeps same data as original but changes view)\n",
        "# See more: https://stackoverflow.com/a/54507446/7900723\n",
        "z = x.view(1, 7)\n",
        "z, z.shape"
      ],
      "metadata": {
        "colab": {
          "base_uri": "https://localhost:8080/"
        },
        "id": "paNaloPMDnSx",
        "outputId": "92cf328e-838e-41b9-ef25-d2846efb37d4"
      },
      "execution_count": 59,
      "outputs": [
        {
          "output_type": "execute_result",
          "data": {
            "text/plain": [
              "(tensor([[1., 2., 3., 4., 5., 6., 7.]]), torch.Size([1, 7]))"
            ]
          },
          "metadata": {},
          "execution_count": 59
        }
      ]
    },
    {
      "cell_type": "code",
      "source": [
        "# Changing z changes x\n",
        "z[:, 0] = 5\n",
        "z, x"
      ],
      "metadata": {
        "colab": {
          "base_uri": "https://localhost:8080/"
        },
        "id": "qLcHDQ7qDqvb",
        "outputId": "2162be60-497f-42fe-aae2-7d1b90ccb3fd"
      },
      "execution_count": 60,
      "outputs": [
        {
          "output_type": "execute_result",
          "data": {
            "text/plain": [
              "(tensor([[5., 2., 3., 4., 5., 6., 7.]]), tensor([5., 2., 3., 4., 5., 6., 7.]))"
            ]
          },
          "metadata": {},
          "execution_count": 60
        }
      ]
    },
    {
      "cell_type": "code",
      "source": [],
      "metadata": {
        "id": "9czoT6KVDztq"
      },
      "execution_count": 61,
      "outputs": []
    }
  ]
}